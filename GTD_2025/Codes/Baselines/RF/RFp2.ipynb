{
 "cells": [
  {
   "cell_type": "code",
   "execution_count": 1,
   "metadata": {},
   "outputs": [],
   "source": [
    "import warnings\n",
    "warnings.filterwarnings( 'ignore' )\n",
    "import pandas as pd\n",
    "import numpy as np\n",
    "import matplotlib.pyplot as plt\n",
    "import seaborn as sns\n",
    "from sklearn.metrics import accuracy_score, classification_report, confusion_matrix\n",
    "from sklearn.model_selection import RandomizedSearchCV, GridSearchCV, TimeSeriesSplit\n",
    "from sklearn.ensemble import GradientBoostingClassifier, RandomForestClassifier\n",
    "from sklearn.impute import SimpleImputer"
   ]
  },
  {
   "cell_type": "code",
   "execution_count": 2,
   "metadata": {},
   "outputs": [
    {
     "name": "stdout",
     "output_type": "stream",
     "text": [
      "shape train data:  (6647, 25)\n",
      "shape test data:  (2847, 25)\n"
     ]
    }
   ],
   "source": [
    "trainpath = '../../CleanPartitions/trainp2.csv'\n",
    "testpath = '../../CleanPartitions/testp2.csv'\n",
    "\n",
    "traindata = pd.read_csv(trainpath, encoding='ISO-8859-1')\n",
    "testdata = pd.read_csv(testpath, encoding='ISO-8859-1')\n",
    "\n",
    "if 'attack_date' in traindata.columns:\n",
    "    traindata = traindata.drop(columns=['attack_date'])\n",
    "\n",
    "if 'attack_date' in testdata.columns:\n",
    "    testdata = testdata.drop(columns=['attack_date'])\n",
    "\n",
    "    print(f'shape train data: ', traindata.shape)\n",
    "    print(f'shape test data: ', testdata.shape)"
   ]
  },
  {
   "cell_type": "code",
   "execution_count": 3,
   "metadata": {},
   "outputs": [],
   "source": [
    "def split_data(dftrain, dftest):\n",
    "    Ytrain = dftrain['gname']\n",
    "    Xtrain = dftrain.drop(columns=['gname'])\n",
    "    Ytest = dftest['gname']\n",
    "    Xtest = dftest.drop(columns=['gname'])\n",
    "    return Xtrain, Ytrain, Xtest, Ytest\n",
    "\n",
    "def find_best_rfc(Xtrain, Ytrain):\n",
    "     params = {\n",
    "          'criterion': [\"gini\", \"entropy\"],\n",
    "          'n_estimators': [5, 10, 20, 50, 100, 150, 200, 300, 500],\n",
    "          'max_depth': [1, 2, 3, 4, 5, 6, 7, 8, 9, 10, 11, 12],\n",
    "          'max_features': ['sqrt', 'log2']\n",
    "          }\n",
    "\n",
    "     rfc = RandomForestClassifier(random_state=42)\n",
    "\n",
    "     tscv = TimeSeriesSplit(n_splits=5)\n",
    "\n",
    "\n",
    "     grid_search =GridSearchCV(estimator=rfc, param_grid=params, cv = tscv)\n",
    "\n",
    "     grid_search.fit(Xtrain, Ytrain)\n",
    "     best_rfc = grid_search.best_estimator_\n",
    "     #print(best_dt)\n",
    "     return best_rfc"
   ]
  },
  {
   "cell_type": "code",
   "execution_count": 4,
   "metadata": {},
   "outputs": [
    {
     "name": "stdout",
     "output_type": "stream",
     "text": [
      "Accuracy: 99.82%\n"
     ]
    }
   ],
   "source": [
    "Xtrain, Ytrain, Xtest, Ytest = split_data(traindata, testdata)\n",
    "best_rfc = find_best_rfc(Xtrain, Ytrain)\n",
    "y_pred_rfc = best_rfc.predict(Xtest)\n",
    "accuracy_gbc = accuracy_score(Ytest, y_pred_rfc)\n",
    "print(f\"Accuracy: {accuracy_gbc * 100:.2f}%\")"
   ]
  }
 ],
 "metadata": {
  "kernelspec": {
   "display_name": "Python 3",
   "language": "python",
   "name": "python3"
  },
  "language_info": {
   "codemirror_mode": {
    "name": "ipython",
    "version": 3
   },
   "file_extension": ".py",
   "mimetype": "text/x-python",
   "name": "python",
   "nbconvert_exporter": "python",
   "pygments_lexer": "ipython3",
   "version": "3.13.1"
  }
 },
 "nbformat": 4,
 "nbformat_minor": 2
}
