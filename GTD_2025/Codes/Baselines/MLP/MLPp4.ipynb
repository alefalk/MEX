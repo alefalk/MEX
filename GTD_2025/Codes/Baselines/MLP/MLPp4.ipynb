{
 "cells": [
  {
   "cell_type": "code",
   "execution_count": 1,
   "metadata": {},
   "outputs": [],
   "source": [
    "import warnings\n",
    "warnings.filterwarnings( 'ignore' )\n",
    "import pandas as pd\n",
    "import numpy as np\n",
    "import matplotlib.pyplot as plt\n",
    "import seaborn as sns\n",
    "from sklearn.metrics import accuracy_score, classification_report, confusion_matrix\n",
    "from sklearn.model_selection import RandomizedSearchCV, GridSearchCV, TimeSeriesSplit\n",
    "from sklearn.ensemble import GradientBoostingClassifier, RandomForestClassifier\n",
    "from sklearn.neural_network import MLPClassifier\n",
    "from sklearn.impute import SimpleImputer"
   ]
  },
  {
   "cell_type": "code",
   "execution_count": 2,
   "metadata": {},
   "outputs": [
    {
     "name": "stdout",
     "output_type": "stream",
     "text": [
      "shape train data:  (4585, 25)\n",
      "shape test data:  (1964, 25)\n"
     ]
    }
   ],
   "source": [
    "trainpath = '../../CleanPartitions/trainp4.csv'\n",
    "testpath = '../../CleanPartitions/testp4.csv'\n",
    "\n",
    "traindata = pd.read_csv(trainpath, encoding='ISO-8859-1')\n",
    "testdata = pd.read_csv(testpath, encoding='ISO-8859-1')\n",
    "\n",
    "if 'attack_date' in traindata.columns:\n",
    "    traindata = traindata.drop(columns=['attack_date'])\n",
    "\n",
    "if 'attack_date' in testdata.columns:\n",
    "    testdata = testdata.drop(columns=['attack_date'])\n",
    "\n",
    "    print(f'shape train data: ', traindata.shape)\n",
    "    print(f'shape test data: ', testdata.shape)"
   ]
  },
  {
   "cell_type": "code",
   "execution_count": 3,
   "metadata": {},
   "outputs": [],
   "source": [
    "def split_data(dftrain, dftest):\n",
    "    Ytrain = dftrain['gname']\n",
    "    Xtrain = dftrain.drop(columns=['gname'])\n",
    "    Ytest = dftest['gname']\n",
    "    Xtest = dftest.drop(columns=['gname'])\n",
    "    return Xtrain, Ytrain, Xtest, Ytest\n",
    "\n",
    "def find_best_mlp(Xtrain, Ytrain):\n",
    "     params = {\n",
    "     'hidden_layer_sizes': [(50,), (100,), (50, 50)],\n",
    "     'activation': ['relu', 'tanh'],\n",
    "     'solver': ['adam'],\n",
    "     'alpha': [1e-5, 1e-4, 1e-3],\n",
    "     'learning_rate_init': [0.001, 0.01, 0.1],\n",
    "     'early_stopping': [True]\n",
    "     }\n",
    "\n",
    "     mlp = MLPClassifier(max_iter=200, random_state=42)\n",
    "\n",
    "     tscv = TimeSeriesSplit(n_splits=5)\n",
    "\n",
    "     grid_search = GridSearchCV(mlp, params, cv=tscv, scoring='accuracy', n_jobs=-1, verbose=1)\n",
    "\n",
    "     grid_search =GridSearchCV(estimator=mlp, param_grid=params, cv = tscv)\n",
    "\n",
    "     grid_search.fit(Xtrain, Ytrain)\n",
    "     best_mlp = grid_search.best_estimator_\n",
    "     #print(best_dt)\n",
    "     return best_mlp"
   ]
  },
  {
   "cell_type": "code",
   "execution_count": 4,
   "metadata": {},
   "outputs": [
    {
     "name": "stdout",
     "output_type": "stream",
     "text": [
      "Accuracy: 99.75%\n"
     ]
    }
   ],
   "source": [
    "Xtrain, Ytrain, Xtest, Ytest = split_data(traindata, testdata)\n",
    "best_mlp = find_best_mlp(Xtrain, Ytrain)\n",
    "y_pred_mlp = best_mlp.predict(Xtest)\n",
    "accuracy_mlp = accuracy_score(Ytest, y_pred_mlp)\n",
    "print(f\"Accuracy: {accuracy_mlp * 100:.2f}%\")"
   ]
  },
  {
   "cell_type": "code",
   "execution_count": 5,
   "metadata": {},
   "outputs": [
    {
     "name": "stdout",
     "output_type": "stream",
     "text": [
      "MLPClassifier(activation='tanh', alpha=0.001, early_stopping=True,\n",
      "              hidden_layer_sizes=(50,), learning_rate_init=0.01,\n",
      "              random_state=42)\n"
     ]
    }
   ],
   "source": [
    "print(best_mlp)"
   ]
  }
 ],
 "metadata": {
  "kernelspec": {
   "display_name": "Python 3",
   "language": "python",
   "name": "python3"
  },
  "language_info": {
   "codemirror_mode": {
    "name": "ipython",
    "version": 3
   },
   "file_extension": ".py",
   "mimetype": "text/x-python",
   "name": "python",
   "nbconvert_exporter": "python",
   "pygments_lexer": "ipython3",
   "version": "3.13.1"
  }
 },
 "nbformat": 4,
 "nbformat_minor": 2
}
