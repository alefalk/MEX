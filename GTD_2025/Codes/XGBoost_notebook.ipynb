{
 "cells": [
  {
   "cell_type": "code",
   "execution_count": 1,
   "metadata": {},
   "outputs": [],
   "source": [
    "import warnings\n",
    "warnings.filterwarnings( 'ignore' )\n",
    "import pandas as pd\n",
    "import numpy as np\n",
    "import matplotlib.pyplot as plt\n",
    "import seaborn as sns\n",
    "from sklearn.metrics import accuracy_score, classification_report, confusion_matrix\n",
    "from sklearn.model_selection import RandomizedSearchCV, GridSearchCV, train_test_split\n",
    "from sklearn.ensemble import GradientBoostingClassifier, RandomForestClassifier\n",
    "from sklearn.impute import SimpleImputer\n",
    "from XGBoost_predictions import *"
   ]
  },
  {
   "cell_type": "code",
   "execution_count": null,
   "metadata": {},
   "outputs": [],
   "source": [
    "#partitions = [\"data_96_2010\", \"data_1970_80\", \"data_1981_95\", \"data_2011_12\", \"data_2013_14\", \"data_2015_17\"]\n",
    "#partitions = [\"data_96_2010\"]\n",
    "\n",
    "paths = []\n",
    "paths.append('/CleanPartitions')\n",
    "#for i, partition in enumerate(partitions):\n",
    "    #paths.append(f'../test/{partition}/down_sampled/new_downsampled_{partition}.csv')"
   ]
  },
  {
   "cell_type": "code",
   "execution_count": 3,
   "metadata": {},
   "outputs": [
    {
     "name": "stdout",
     "output_type": "stream",
     "text": [
      "Computing for partition data_96_2010\n",
      "Encoding target...\n",
      "Splitting data...\n",
      "Finding optimal hyperparameters...\n",
      "Fitting 5 folds for each of 10 candidates, totalling 50 fits\n",
      "Best params: n_estimators = 150 , learning_rate = 0.1 , subsample = 0.7 , max_depth = 7\n",
      "Making predictions...\n",
      "Accuracy: 85.78%\n",
      "---------------------------------------------------\n"
     ]
    }
   ],
   "source": [
    "models = []\n",
    "accuracies = []\n",
    "for i, path in enumerate(paths):\n",
    "    print(f'Computing for partition {partitions[i]}')\n",
    "    model, accuracy, _ = main(path)\n",
    "    models.append(model)\n",
    "    accuracies.append(accuracy)\n",
    "    print(\"---------------------------------------------------\")"
   ]
  },
  {
   "cell_type": "code",
   "execution_count": 4,
   "metadata": {},
   "outputs": [
    {
     "name": "stdout",
     "output_type": "stream",
     "text": [
      "data_96_2010\n",
      "Class distribution train set after temporal split:  enc_group\n",
      "Taliban                                             16.836735\n",
      "Communist Party of India - Maoist (CPI-Maoist)      12.244898\n",
      "Revolutionary Armed Forces of Colombia (FARC)       11.862245\n",
      "Liberation Tigers of Tamil Eelam (LTTE)              9.948980\n",
      "Tehrik-i-Taliban Pakistan (TTP)                      4.974490\n",
      "National Liberation Army of Colombia (ELN)           4.464286\n",
      "Algerian Islamic Extremists                          4.209184\n",
      "Basque Fatherland and Freedom (ETA)                  3.826531\n",
      "New People's Army (NPA)                              3.571429\n",
      "Chechen Rebels                                       3.571429\n",
      "Moro Islamic Liberation Front (MILF)                 3.443878\n",
      "Maoists                                              2.806122\n",
      "Al-Qaida in Iraq                                     2.551020\n",
      "Lord's Resistance Army (LRA)                         2.423469\n",
      "United Liberation Front of Assam (ULFA)              2.423469\n",
      "Salafist Group for Preaching and Fighting (GSPC)     2.423469\n",
      "Hamas (Islamic Resistance Movement)                  2.423469\n",
      "Kurdistan Workers' Party (PKK)                       2.295918\n",
      "Abu Sayyaf Group (ASG)                               1.913265\n",
      "Al-Qaida in the Islamic Maghreb (AQIM)               1.785714\n",
      "Name: proportion, dtype: float64\n",
      "------------------------------------------------------\n",
      "Class distribution test set after temporal split:  enc_group\n",
      "Taliban                                             16.176471\n",
      "Revolutionary Armed Forces of Colombia (FARC)       11.764706\n",
      "Communist Party of India - Maoist (CPI-Maoist)      11.764706\n",
      "Liberation Tigers of Tamil Eelam (LTTE)              9.803922\n",
      "Tehrik-i-Taliban Pakistan (TTP)                      4.901961\n",
      "Algerian Islamic Extremists                          4.411765\n",
      "National Liberation Army of Colombia (ELN)           4.411765\n",
      "Basque Fatherland and Freedom (ETA)                  3.921569\n",
      "Chechen Rebels                                       3.921569\n",
      "New People's Army (NPA)                              3.921569\n",
      "Moro Islamic Liberation Front (MILF)                 3.431373\n",
      "Maoists                                              2.941176\n",
      "Kurdistan Workers' Party (PKK)                       2.450980\n",
      "Al-Qaida in Iraq                                     2.450980\n",
      "United Liberation Front of Assam (ULFA)              2.450980\n",
      "Hamas (Islamic Resistance Movement)                  2.450980\n",
      "Salafist Group for Preaching and Fighting (GSPC)     2.450980\n",
      "Lord's Resistance Army (LRA)                         2.450980\n",
      "Al-Qaida in the Islamic Maghreb (AQIM)               1.960784\n",
      "Abu Sayyaf Group (ASG)                               1.960784\n",
      "Name: proportion, dtype: float64\n"
     ]
    }
   ],
   "source": [
    "for i, partition in enumerate(partitions):\n",
    "    class_distribution = models[i].y_train.value_counts(normalize=True) * 100\n",
    "    print(partition)\n",
    "    print(\"Class distribution train set after temporal split: \", class_distribution)\n",
    "    print(\"------------------------------------------------------\")\n",
    "    class_distribution = models[i].y_test.value_counts(normalize=True) * 100\n",
    "    print(\"Class distribution test set after temporal split: \", class_distribution)"
   ]
  },
  {
   "cell_type": "code",
   "execution_count": 5,
   "metadata": {},
   "outputs": [
    {
     "ename": "AttributeError",
     "evalue": "'XGBoost_predictions' object has no attribute 'target'",
     "output_type": "error",
     "traceback": [
      "\u001b[1;31m---------------------------------------------------------------------------\u001b[0m",
      "\u001b[1;31mAttributeError\u001b[0m                            Traceback (most recent call last)",
      "Cell \u001b[1;32mIn[5], line 1\u001b[0m\n\u001b[1;32m----> 1\u001b[0m \u001b[38;5;28mprint\u001b[39m(model\u001b[38;5;241m.\u001b[39mtarget)\n",
      "\u001b[1;31mAttributeError\u001b[0m: 'XGBoost_predictions' object has no attribute 'target'"
     ]
    }
   ],
   "source": [
    "print(model.target)"
   ]
  }
 ],
 "metadata": {
  "kernelspec": {
   "display_name": "base",
   "language": "python",
   "name": "python3"
  },
  "language_info": {
   "codemirror_mode": {
    "name": "ipython",
    "version": 3
   },
   "file_extension": ".py",
   "mimetype": "text/x-python",
   "name": "python",
   "nbconvert_exporter": "python",
   "pygments_lexer": "ipython3",
   "version": "3.11.0"
  }
 },
 "nbformat": 4,
 "nbformat_minor": 2
}
